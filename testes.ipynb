{
 "cells": [
  {
   "cell_type": "code",
   "execution_count": 3,
   "metadata": {},
   "outputs": [],
   "source": [
    "import tkinter as tk\n",
    "from tkinter import ttk\n",
    "\n",
    "def aplicar_tema(tema):\n",
    "    estilo = ttk.Style()\n",
    "    estilo.theme_use(tema)\n",
    "\n",
    "def criar_botao(root, texto):\n",
    "    return ttk.Button(root, text=texto)\n",
    "\n",
    "def trocar_tema():\n",
    "    tema_selecionado = combo_var.get()\n",
    "    aplicar_tema(tema_selecionado)\n",
    "\n",
    "# Criar a janela principal\n",
    "janela = tk.Tk()\n",
    "janela.title(\"Exemplo de Troca de Tema\")\n",
    "\n",
    "# Criar uma lista de temas disponíveis\n",
    "temas_disponiveis = ttk.Style().theme_names()\n",
    "\n",
    "# Criar um combobox para selecionar o tema\n",
    "combo_var = tk.StringVar()\n",
    "combo_box = ttk.Combobox(janela, textvariable=combo_var, values=temas_disponiveis)\n",
    "combo_box.set(\"default\")  # Definir o tema padrão\n",
    "combo_box.grid(row=0, column=0)\n",
    "\n",
    "# Criar botões\n",
    "\n",
    "# Vincular o botão de seleção de tema à função trocar_tema()\n",
    "botao_selecionar_tema = ttk.Button(janela, text=\"Selecionar Tema\", command=trocar_tema)\n",
    "botao_selecionar_tema.grid(row=4, column=0, pady=10)\n",
    "\n",
    "janela.mainloop()\n"
   ]
  },
  {
   "cell_type": "code",
   "execution_count": 1,
   "metadata": {},
   "outputs": [
    {
     "name": "stderr",
     "output_type": "stream",
     "text": [
      "Exception in Tkinter callback\n",
      "Traceback (most recent call last):\n",
      "  File \"C:\\Program Files\\WindowsApps\\PythonSoftwareFoundation.Python.3.9_3.9.3568.0_x64__qbz5n2kfra8p0\\lib\\tkinter\\__init__.py\", line 1892, in __call__\n",
      "    return self.func(*args)\n",
      "  File \"C:\\Users\\teste\\AppData\\Local\\Temp\\ipykernel_10716\\114374429.py\", line 6, in ajustar_tamanho_colunas\n",
      "    tree.column(col, width=tk.FIXED)  # Define o ajuste manual da largura\n",
      "AttributeError: module 'tkinter' has no attribute 'FIXED'\n"
     ]
    }
   ],
   "source": [
    "import tkinter as tk\n",
    "from tkinter import ttk\n",
    "\n",
    "def ajustar_tamanho_colunas():\n",
    "    for col in tree['columns']:\n",
    "        tree.column(col, width=tk.FIXED)  # Define o ajuste manual da largura\n",
    "\n",
    "        # Obtém o maior comprimento de texto para a coluna\n",
    "        maior_comprimento = max(\n",
    "            tree.heading(col)['text'],\n",
    "            *(tree.item(item, 'values')[tree.heading(col)['text']] for item in tree.get_children())\n",
    "        )\n",
    "\n",
    "        # Define a largura da coluna para o maior comprimento de texto + um pequeno ajuste\n",
    "        tree.column(col, width=tk.FIXED, anchor=tk.CENTER, minwidth=0, stretch=False)\n",
    "        tree.column(col, width=tree.bbox(\"\", col)[2] + 10)\n",
    "\n",
    "app = tk.Tk()\n",
    "app.title(\"Exemplo Treeview\")\n",
    "\n",
    "tree = ttk.Treeview(app, columns=('Coluna1', 'Coluna2'), show='headings')\n",
    "tree.heading('Coluna1', text='Coluna 1')\n",
    "tree.heading('Coluna2', text='Coluna 2')\n",
    "\n",
    "tree.insert('', 'end', values=('Valor 1', 'Valor 2'))\n",
    "tree.insert('', 'end', values=('Valor 3', 'Valor 4'))\n",
    "tree.insert('', 'end', values=('Valor 5', 'Valor 6'))\n",
    "\n",
    "tree.pack()\n",
    "\n",
    "botao = tk.Button(app, text=\"Ajustar Tamanho das Colunas\", command=ajustar_tamanho_colunas)\n",
    "botao.pack()\n",
    "\n",
    "app.mainloop()\n"
   ]
  }
 ],
 "metadata": {
  "kernelspec": {
   "display_name": "Python 3",
   "language": "python",
   "name": "python3"
  },
  "language_info": {
   "codemirror_mode": {
    "name": "ipython",
    "version": 3
   },
   "file_extension": ".py",
   "mimetype": "text/x-python",
   "name": "python",
   "nbconvert_exporter": "python",
   "pygments_lexer": "ipython3",
   "version": "3.9.13"
  },
  "orig_nbformat": 4
 },
 "nbformat": 4,
 "nbformat_minor": 2
}
