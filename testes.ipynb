{
 "cells": [
  {
   "cell_type": "code",
   "execution_count": 8,
   "metadata": {},
   "outputs": [
    {
     "ename": "TclError",
     "evalue": "unknown option \"-side\"",
     "output_type": "error",
     "traceback": [
      "\u001b[1;31m---------------------------------------------------------------------------\u001b[0m",
      "\u001b[1;31mTclError\u001b[0m                                  Traceback (most recent call last)",
      "Cell \u001b[1;32mIn[8], line 54\u001b[0m\n\u001b[0;32m     52\u001b[0m scroll_x \u001b[39m=\u001b[39m ttk\u001b[39m.\u001b[39mScrollbar(frame_resp, orient\u001b[39m=\u001b[39m\u001b[39m\"\u001b[39m\u001b[39mhorizontal\u001b[39m\u001b[39m\"\u001b[39m, command\u001b[39m=\u001b[39mtree\u001b[39m.\u001b[39mxview)\n\u001b[0;32m     53\u001b[0m tree\u001b[39m.\u001b[39mconfigure(xscrollcommand\u001b[39m=\u001b[39mscroll_x\u001b[39m.\u001b[39mset)\n\u001b[1;32m---> 54\u001b[0m scroll_x\u001b[39m.\u001b[39;49mplace(x\u001b[39m=\u001b[39;49m\u001b[39m5\u001b[39;49m, y\u001b[39m=\u001b[39;49m\u001b[39m100\u001b[39;49m, side\u001b[39m=\u001b[39;49m\u001b[39m\"\u001b[39;49m\u001b[39mbottom\u001b[39;49m\u001b[39m\"\u001b[39;49m, fill\u001b[39m=\u001b[39;49m\u001b[39m\"\u001b[39;49m\u001b[39mx\u001b[39;49m\u001b[39m\"\u001b[39;49m)\n\u001b[0;32m     56\u001b[0m \u001b[39m# Exibindo o widget Treeview na janela\u001b[39;00m\n\u001b[0;32m     57\u001b[0m tree\u001b[39m.\u001b[39mpack(fill\u001b[39m=\u001b[39m\u001b[39m\"\u001b[39m\u001b[39mboth\u001b[39m\u001b[39m\"\u001b[39m, expand\u001b[39m=\u001b[39m\u001b[39mTrue\u001b[39;00m)\n",
      "File \u001b[1;32mC:\\Program Files\\WindowsApps\\PythonSoftwareFoundation.Python.3.9_3.9.3568.0_x64__qbz5n2kfra8p0\\lib\\tkinter\\__init__.py:2448\u001b[0m, in \u001b[0;36mPlace.place_configure\u001b[1;34m(self, cnf, **kw)\u001b[0m\n\u001b[0;32m   2426\u001b[0m \u001b[39mdef\u001b[39;00m \u001b[39mplace_configure\u001b[39m(\u001b[39mself\u001b[39m, cnf\u001b[39m=\u001b[39m{}, \u001b[39m*\u001b[39m\u001b[39m*\u001b[39mkw):\n\u001b[0;32m   2427\u001b[0m \u001b[39m    \u001b[39m\u001b[39m\"\"\"Place a widget in the parent widget. Use as options:\u001b[39;00m\n\u001b[0;32m   2428\u001b[0m \u001b[39m    in=master - master relative to which the widget is placed\u001b[39;00m\n\u001b[0;32m   2429\u001b[0m \u001b[39m    in_=master - see 'in' option description\u001b[39;00m\n\u001b[1;32m   (...)\u001b[0m\n\u001b[0;32m   2446\u001b[0m \u001b[39m                                       master widget into account\u001b[39;00m\n\u001b[0;32m   2447\u001b[0m \u001b[39m    \"\"\"\u001b[39;00m\n\u001b[1;32m-> 2448\u001b[0m     \u001b[39mself\u001b[39;49m\u001b[39m.\u001b[39;49mtk\u001b[39m.\u001b[39;49mcall(\n\u001b[0;32m   2449\u001b[0m           (\u001b[39m'\u001b[39;49m\u001b[39mplace\u001b[39;49m\u001b[39m'\u001b[39;49m, \u001b[39m'\u001b[39;49m\u001b[39mconfigure\u001b[39;49m\u001b[39m'\u001b[39;49m, \u001b[39mself\u001b[39;49m\u001b[39m.\u001b[39;49m_w)\n\u001b[0;32m   2450\u001b[0m           \u001b[39m+\u001b[39;49m \u001b[39mself\u001b[39;49m\u001b[39m.\u001b[39;49m_options(cnf, kw))\n",
      "\u001b[1;31mTclError\u001b[0m: unknown option \"-side\""
     ]
    }
   ],
   "source": [
    "import tkinter as tk\n",
    "from tkinter import ttk\n",
    "from faker import Faker\n",
    "\n",
    "def generate_fake_data():\n",
    "    fake = Faker()\n",
    "    data = []\n",
    "    for _ in range(500):\n",
    "        data.append((fake.name(), fake.city(), fake.phone_number()))\n",
    "    return data\n",
    "\n",
    "def on_edit(event):\n",
    "    selected_item = tree.selection()\n",
    "    if selected_item:\n",
    "        values = tree.item(selected_item, \"values\")\n",
    "        print(values)\n",
    "\n",
    "# Criando a janela principal\n",
    "root = tk.Tk()\n",
    "root.title(\"Exemplo Treeview com Barra de Rolagem\")\n",
    "\n",
    "# Criando o frame para o Treeview\n",
    "frame_resp = ttk.Frame(root)\n",
    "frame_resp.grid(row=0, column=2)\n",
    "\n",
    "# Criando o widget Treeview\n",
    "tree = ttk.Treeview(frame_resp, columns=(\"coluna1\", \"coluna2\", \"coluna3\", \"coluna4\", \"coluna5\",\n",
    "                                         \"coluna6\", \"coluna7\", \"coluna8\", \"coluna9\", \"coluna10\",\n",
    "                                         \"coluna11\", \"coluna12\", \"coluna13\", \"coluna14\", \"coluna15\", \"coluna16\"), show=\"headings\")\n",
    "\n",
    "# Definindo os cabeçalhos das colunas\n",
    "tree.heading(\"coluna1\", text=\"Nome\")\n",
    "tree.heading(\"coluna2\", text=\"Cidade\")\n",
    "tree.heading(\"coluna3\", text=\"Telefone\")\n",
    "\n",
    "# Definindo a largura da coluna desejada\n",
    "tree.column(\"coluna1\", width=800)\n",
    "\n",
    "# Gerando dados fake\n",
    "fake_data = generate_fake_data()\n",
    "\n",
    "# Inserindo os dados no Treeview\n",
    "for item in fake_data:\n",
    "    tree.insert(\"\", \"end\", values=item)\n",
    "\n",
    "# Adicionando uma barra de rolagem vertical ao Treeview\n",
    "scroll_y = ttk.Scrollbar(frame_resp, orient=\"vertical\", command=tree.yview)\n",
    "tree.configure(yscrollcommand=scroll_y.set)\n",
    "scroll_y.pack(side=\"right\", fill=\"y\")\n",
    "\n",
    "# Adicionando uma barra de rolagem horizontal ao Treeview usando o método place\n",
    "scroll_x = ttk.Scrollbar(frame_resp, orient=\"horizontal\", command=tree.xview)\n",
    "tree.configure(xscrollcommand=scroll_x.set)\n",
    "scroll_x.place(x=5, y=100, side=\"bottom\", fill=\"x\")\n",
    "\n",
    "# Exibindo o widget Treeview na janela\n",
    "tree.pack(fill=\"both\", expand=True)\n",
    "\n",
    "# Vinculando o evento de seleção do Treeview à função on_edit()\n",
    "tree.bind(\"<<TreeviewSelect>>\", on_edit)\n",
    "\n",
    "# Iniciando o loop principal da aplicação\n",
    "root.mainloop()\n",
    "\n",
    "\n"
   ]
  }
 ],
 "metadata": {
  "kernelspec": {
   "display_name": "Python 3",
   "language": "python",
   "name": "python3"
  },
  "language_info": {
   "codemirror_mode": {
    "name": "ipython",
    "version": 3
   },
   "file_extension": ".py",
   "mimetype": "text/x-python",
   "name": "python",
   "nbconvert_exporter": "python",
   "pygments_lexer": "ipython3",
   "version": "3.9.13"
  },
  "orig_nbformat": 4
 },
 "nbformat": 4,
 "nbformat_minor": 2
}
