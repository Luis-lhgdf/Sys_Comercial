{
 "cells": [
  {
   "cell_type": "code",
   "execution_count": 7,
   "metadata": {},
   "outputs": [
    {
     "name": "stdout",
     "output_type": "stream",
     "text": [
      "lais\n",
      "luis\n"
     ]
    },
    {
     "ename": "KeyboardInterrupt",
     "evalue": "",
     "output_type": "error",
     "traceback": [
      "\u001b[1;31m---------------------------------------------------------------------------\u001b[0m",
      "\u001b[1;31mKeyboardInterrupt\u001b[0m                         Traceback (most recent call last)",
      "Cell \u001b[1;32mIn[7], line 23\u001b[0m\n\u001b[0;32m     16\u001b[0m bt \u001b[39m=\u001b[39m ctk\u001b[39m.\u001b[39mCTkButton(root, text\u001b[39m=\u001b[39m\u001b[39m\"\u001b[39m\u001b[39mclick me\u001b[39m\u001b[39m\"\u001b[39m, command\u001b[39m=\u001b[39mprints)\n\u001b[0;32m     17\u001b[0m bt\u001b[39m.\u001b[39mpack()\n\u001b[1;32m---> 23\u001b[0m root\u001b[39m.\u001b[39;49mmainloop()\n",
      "File \u001b[1;32m~\\AppData\\Local\\Packages\\PythonSoftwareFoundation.Python.3.9_qbz5n2kfra8p0\\LocalCache\\local-packages\\Python39\\site-packages\\customtkinter\\windows\\ctk_tk.py:163\u001b[0m, in \u001b[0;36mCTk.mainloop\u001b[1;34m(self, *args, **kwargs)\u001b[0m\n\u001b[0;32m    159\u001b[0m             \u001b[39mself\u001b[39m\u001b[39m.\u001b[39mdeiconify()\n\u001b[0;32m    161\u001b[0m     \u001b[39mself\u001b[39m\u001b[39m.\u001b[39m_window_exists \u001b[39m=\u001b[39m \u001b[39mTrue\u001b[39;00m\n\u001b[1;32m--> 163\u001b[0m \u001b[39msuper\u001b[39m()\u001b[39m.\u001b[39mmainloop(\u001b[39m*\u001b[39margs, \u001b[39m*\u001b[39m\u001b[39m*\u001b[39mkwargs)\n",
      "File \u001b[1;32mC:\\Program Files\\WindowsApps\\PythonSoftwareFoundation.Python.3.9_3.9.3568.0_x64__qbz5n2kfra8p0\\lib\\tkinter\\__init__.py:1429\u001b[0m, in \u001b[0;36mMisc.mainloop\u001b[1;34m(self, n)\u001b[0m\n\u001b[0;32m   1427\u001b[0m \u001b[39mdef\u001b[39;00m \u001b[39mmainloop\u001b[39m(\u001b[39mself\u001b[39m, n\u001b[39m=\u001b[39m\u001b[39m0\u001b[39m):\n\u001b[0;32m   1428\u001b[0m \u001b[39m    \u001b[39m\u001b[39m\"\"\"Call the mainloop of Tk.\"\"\"\u001b[39;00m\n\u001b[1;32m-> 1429\u001b[0m     \u001b[39mself\u001b[39;49m\u001b[39m.\u001b[39;49mtk\u001b[39m.\u001b[39;49mmainloop(n)\n",
      "\u001b[1;31mKeyboardInterrupt\u001b[0m: "
     ]
    }
   ],
   "source": [
    "import customtkinter as ctk\n",
    "\n",
    "root = ctk.CTk()\n",
    "root.geometry(\"500x500\")\n",
    "\n",
    "def prints():\n",
    "    valor = option.get()\n",
    "\n",
    "    print(valor)\n",
    "\n",
    "option = ctk.CTkOptionMenu(root,values=(\"luis\",\"lais\"))\n",
    "option.pack()\n",
    "\n",
    "\n",
    "\n",
    "bt = ctk.CTkButton(root, text=\"click me\", command=prints)\n",
    "bt.pack()\n",
    "\n",
    "\n",
    "\n",
    "\n",
    "\n",
    "root.mainloop()\n",
    "\n",
    "\n"
   ]
  },
  {
   "cell_type": "code",
   "execution_count": 8,
   "metadata": {},
   "outputs": [],
   "source": []
  },
  {
   "cell_type": "code",
   "execution_count": 12,
   "metadata": {},
   "outputs": [],
   "source": []
  },
  {
   "cell_type": "code",
   "execution_count": 35,
   "metadata": {},
   "outputs": [],
   "source": [
    "import customtkinter as ctk\n",
    "\n",
    "def on_button_click():\n",
    "    print(\"Botão clicado\")\n",
    "\n",
    "root = ctk.CTk()\n",
    "\n",
    "button = ctk.CTkButton(root, text=\"Clique aqui\", command=on_button_click, border_color=\"red\", fg_color='gray', bg_color=\"Green\", hover='disabled')\n",
    "button.place(x=1,y=2)\n",
    "button2 = ctk.CTkButton(root, text=\"Clique aqui\", command=on_button_click)\n",
    "button2.place(x=1,y=50)\n",
    "\n",
    "# Dá foco ao botão\n",
    "button.focus_set()\n",
    "\n",
    "root.mainloop()\n"
   ]
  }
 ],
 "metadata": {
  "kernelspec": {
   "display_name": "Python 3",
   "language": "python",
   "name": "python3"
  },
  "language_info": {
   "codemirror_mode": {
    "name": "ipython",
    "version": 3
   },
   "file_extension": ".py",
   "mimetype": "text/x-python",
   "name": "python",
   "nbconvert_exporter": "python",
   "pygments_lexer": "ipython3",
   "version": "3.9.13"
  },
  "orig_nbformat": 4
 },
 "nbformat": 4,
 "nbformat_minor": 2
}
