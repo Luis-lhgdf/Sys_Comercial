{
 "cells": [
  {
   "cell_type": "code",
   "execution_count": 1,
   "metadata": {},
   "outputs": [],
   "source": [
    "import tkinter as tk\n",
    "\n",
    "def setar_valores(entries, valores):\n",
    "    for entry, valor in zip(entries, valores):\n",
    "        entry.delete(0, tk.END)  # Limpar o conteúdo atual do Entry\n",
    "        entry.insert(0, valor)  # Definir o novo valor no Entry\n",
    "\n",
    "root = tk.Tk()\n",
    "root.title(\"Exemplo de Configuração de Entry\")\n",
    "\n",
    "frame = tk.Frame(root)\n",
    "frame.pack(padx=20, pady=20)\n",
    "\n",
    "# Criar uma lista de Entry widgets\n",
    "entry1 = tk.Entry(frame)\n",
    "entry2 = tk.Entry(frame)\n",
    "entry3 = tk.Entry(frame)\n",
    "\n",
    "# Coloque os Entry widgets usando grid (ou outra opção de posicionamento)\n",
    "entry1.grid(row=0, column=0)\n",
    "entry2.grid(row=1, column=0)\n",
    "entry3.grid(row=2, column=0)\n",
    "\n",
    "# Crie uma lista contendo os Entry widgets\n",
    "entries = [entry1, entry2, entry3]\n",
    "\n",
    "# Crie uma lista com os valores que deseja definir nos Entry widgets\n",
    "valores = [\"Valor 1\", \"Valor 2\", \"Valor 3\"]\n",
    "\n",
    "# Chame a função para configurar os valores dos Entry widgets\n",
    "setar_valores(entries, valores)\n",
    "\n",
    "root.mainloop()\n"
   ]
  },
  {
   "cell_type": "code",
   "execution_count": 3,
   "metadata": {},
   "outputs": [
    {
     "name": "stdout",
     "output_type": "stream",
     "text": [
      "[(<tkinter.Entry object .!frame.!entry>, 'Valor 1'), (<tkinter.Entry object .!frame.!entry2>, 'Valor 2'), (<tkinter.Entry object .!frame.!entry3>, 'Valor 3')]\n"
     ]
    }
   ],
   "source": [
    "print(list(zip(entries, valores)))\n"
   ]
  }
 ],
 "metadata": {
  "kernelspec": {
   "display_name": "Python 3",
   "language": "python",
   "name": "python3"
  },
  "language_info": {
   "codemirror_mode": {
    "name": "ipython",
    "version": 3
   },
   "file_extension": ".py",
   "mimetype": "text/x-python",
   "name": "python",
   "nbconvert_exporter": "python",
   "pygments_lexer": "ipython3",
   "version": "3.9.13"
  },
  "orig_nbformat": 4
 },
 "nbformat": 4,
 "nbformat_minor": 2
}
