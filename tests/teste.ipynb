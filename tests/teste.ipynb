{
 "cells": [
  {
   "cell_type": "code",
   "execution_count": 10,
   "metadata": {},
   "outputs": [
    {
     "ename": "AttributeError",
     "evalue": "'dict' object has no attribute 'append'",
     "output_type": "error",
     "traceback": [
      "\u001b[1;31m---------------------------------------------------------------------------\u001b[0m",
      "\u001b[1;31mAttributeError\u001b[0m                            Traceback (most recent call last)",
      "Cell \u001b[1;32mIn[10], line 68\u001b[0m\n\u001b[0;32m     64\u001b[0m     \u001b[38;5;28;01mdef\u001b[39;00m \u001b[38;5;21mlistar_opções\u001b[39m(\u001b[38;5;28mself\u001b[39m):\n\u001b[0;32m     65\u001b[0m         \u001b[38;5;28;01mpass\u001b[39;00m\n\u001b[1;32m---> 68\u001b[0m \u001b[43mmenu_view\u001b[49m\u001b[43m(\u001b[49m\u001b[43m)\u001b[49m\n",
      "Cell \u001b[1;32mIn[10], line 59\u001b[0m, in \u001b[0;36mmenu_view.__init__\u001b[1;34m(self)\u001b[0m\n\u001b[0;32m     48\u001b[0m     button \u001b[38;5;241m=\u001b[39m ctk\u001b[38;5;241m.\u001b[39mCTkButton(\u001b[38;5;28mself\u001b[39m\u001b[38;5;241m.\u001b[39mnavigation_frame,\n\u001b[0;32m     49\u001b[0m         text\u001b[38;5;241m=\u001b[39minfo[\u001b[38;5;124m\"\u001b[39m\u001b[38;5;124mtext\u001b[39m\u001b[38;5;124m\"\u001b[39m],\n\u001b[0;32m     50\u001b[0m         anchor\u001b[38;5;241m=\u001b[39minfo[\u001b[38;5;124m'\u001b[39m\u001b[38;5;124manchor\u001b[39m\u001b[38;5;124m'\u001b[39m],\n\u001b[1;32m   (...)\u001b[0m\n\u001b[0;32m     54\u001b[0m         text_color\u001b[38;5;241m=\u001b[39minfo[\u001b[38;5;124m'\u001b[39m\u001b[38;5;124mtext_color\u001b[39m\u001b[38;5;124m'\u001b[39m],\n\u001b[0;32m     55\u001b[0m         command\u001b[38;5;241m=\u001b[39minfo[\u001b[38;5;124m\"\u001b[39m\u001b[38;5;124mcommand\u001b[39m\u001b[38;5;124m\"\u001b[39m])\n\u001b[0;32m     57\u001b[0m     button\u001b[38;5;241m.\u001b[39mgrid(row\u001b[38;5;241m=\u001b[39mindex\u001b[38;5;241m+\u001b[39m\u001b[38;5;241m1\u001b[39m, column\u001b[38;5;241m=\u001b[39m\u001b[38;5;241m0\u001b[39m, pady\u001b[38;5;241m=\u001b[39m\u001b[38;5;241m5\u001b[39m)\n\u001b[1;32m---> 59\u001b[0m     \u001b[38;5;28;43mself\u001b[39;49m\u001b[38;5;241;43m.\u001b[39;49m\u001b[43mbuttons_list\u001b[49m\u001b[38;5;241;43m.\u001b[39;49m\u001b[43mappend\u001b[49m(button)\n\u001b[0;32m     62\u001b[0m \u001b[38;5;28mself\u001b[39m\u001b[38;5;241m.\u001b[39mmainloop()\n",
      "\u001b[1;31mAttributeError\u001b[0m: 'dict' object has no attribute 'append'"
     ]
    }
   ],
   "source": [
    "from typing import Tuple\n",
    "import customtkinter as ctk\n",
    "\n",
    "\n",
    "\n",
    "class menu_view(ctk.CTk):\n",
    "    def __init__(self):\n",
    "        super().__init__()\n",
    "\n",
    "\n",
    "\n",
    "        self.grid_columnconfigure((1), weight=1)\n",
    "        self.grid_rowconfigure(0, weight=1)\n",
    "\n",
    "        self.geometry(\"500x400\")\n",
    "\n",
    "        self.navigation_frame = ctk.CTkFrame(self, height=400, width=120, fg_color=\"white\")\n",
    "        self.navigation_frame.grid(column=0, row=0, sticky=\"nsew\")\n",
    "        self.navigation_frame.grid_rowconfigure(3, weight=1)\n",
    "\n",
    "\n",
    "        self.resposta = ctk.CTkFrame(self, height=400, width=500, fg_color=\"gray80\")\n",
    "        self.resposta.grid(column=1, row=0)\n",
    "\n",
    "\n",
    "        self.buttons_list = {}\n",
    "\n",
    "        self.button_info = [\n",
    "            {\"text\": \"Home\", \"image\": 1, \"anchor\": \"w\", \"width\": 176, \"corner_radius\": 0,\n",
    "            \"fg_color\": \"transparent\", \"text_color\": (\"black\", \"white\"), \"command\": None},\n",
    "            {\"text\": \"Estoque\", \"image\": 2, \"anchor\": \"w\", \"width\": 176, \"corner_radius\": 0,\n",
    "            \"fg_color\": \"transparent\", \"text_color\": (\"black\", \"white\"), \"command\": None},\n",
    "            {\"text\": \"Cadastro\", \"image\": 3, \"anchor\": \"w\", \"width\": 176, \"corner_radius\": 0,\n",
    "            \"fg_color\": \"transparent\", \"text_color\": (\"black\", \"white\"), \"command\": None},\n",
    "            {\"text\": \"Agenda\", \"image\": 4, \"anchor\": \"w\", \"width\": 176, \"corner_radius\": 0,\n",
    "            \"fg_color\": \"transparent\", \"text_color\": (\"black\", \"white\"), \"command\": None},\n",
    "            {\"text\": \"Carteira\", \"image\": 5, \"anchor\": \"w\", \"width\": 176, \"corner_radius\": 0,\n",
    "            \"fg_color\": \"transparent\", \"text_color\": (\"black\", \"white\"), \"command\": None},\n",
    "            {\"text\": \"Financas\", \"image\": 6, \"anchor\": \"w\", \"width\": 176, \"corner_radius\": 0,\n",
    "            \"fg_color\": \"transparent\", \"text_color\": (\"black\", \"white\"), \"command\": None},\n",
    "            {\"text\": \"Usuario\", \"image\": 7, \"anchor\": \"w\", \"width\": 176, \"corner_radius\": 0,\n",
    "            \"fg_color\": \"transparent\", \"text_color\": (\"black\", \"white\"), \"command\": None},\n",
    "            {\"text\": \"Configuracoes\", \"image\": 8, \"anchor\": \"w\", \"width\": 176, \"corner_radius\": 0,\n",
    "            \"fg_color\": \"transparent\", \"text_color\": (\"black\", \"white\"), \"command\": None}\n",
    "        ]\n",
    "\n",
    "        for index, info in enumerate(self.button_info):\n",
    "            button = ctk.CTkButton(self.navigation_frame,\n",
    "                text=info[\"text\"],\n",
    "                anchor=info['anchor'],\n",
    "                width=info['width'],\n",
    "                corner_radius=info['corner_radius'],\n",
    "                fg_color=info['fg_color'],\n",
    "                text_color=info['text_color'],\n",
    "                command=info[\"command\"])\n",
    "            \n",
    "            button.grid(row=index+1, column=0, pady=5)\n",
    "\n",
    "            self.buttons_list.append(button)\n",
    "\n",
    "\n",
    "        self.mainloop()\n",
    "\n",
    "    def listar_opções(self):\n",
    "        pass\n",
    "\n",
    "\n",
    "menu_view()"
   ]
  }
 ],
 "metadata": {
  "kernelspec": {
   "display_name": "Python 3",
   "language": "python",
   "name": "python3"
  },
  "language_info": {
   "codemirror_mode": {
    "name": "ipython",
    "version": 3
   },
   "file_extension": ".py",
   "mimetype": "text/x-python",
   "name": "python",
   "nbconvert_exporter": "python",
   "pygments_lexer": "ipython3",
   "version": "3.11.8"
  }
 },
 "nbformat": 4,
 "nbformat_minor": 2
}
