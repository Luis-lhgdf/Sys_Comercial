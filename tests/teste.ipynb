{
 "cells": [
  {
   "cell_type": "code",
   "execution_count": 15,
   "metadata": {},
   "outputs": [],
   "source": [
    "from typing import Tuple\n",
    "import customtkinter as ctk\n",
    "\n",
    "\n",
    "\n",
    "root = ctk.CTk()\n",
    "root.geometry(\"500x500\")\n",
    "\n",
    "\n",
    "\n",
    "\n",
    "label_titulo = ctk.CTkLabel(\n",
    "    root,\n",
    "    text=f\"CONFIGURACÕES\",\n",
    "    fg_color=\"transparent\",\n",
    "    text_color=(\"black\", \"white\"),\n",
    "    corner_radius=6,\n",
    "    anchor=\"w\",\n",
    ")\n",
    "label_titulo.grid(row=0, column=0, sticky=\"nsew\", padx=10, pady=5)\n",
    "\n",
    "painel_theme = ctk.CTkButton(\n",
    "    root,\n",
    "    height=90,\n",
    "    text=\"ola\",\n",
    "    border_width=1,\n",
    "    fg_color=\"transparent\",\n",
    ")\n",
    "painel_theme.grid(row=1, column=0, padx=10, sticky=\"nsew\", pady=(45, 5))\n",
    "root.grid_columnconfigure(0, weight=1)\n",
    "\n",
    "root.mainloop()"
   ]
  }
 ],
 "metadata": {
  "kernelspec": {
   "display_name": "Python 3",
   "language": "python",
   "name": "python3"
  },
  "language_info": {
   "codemirror_mode": {
    "name": "ipython",
    "version": 3
   },
   "file_extension": ".py",
   "mimetype": "text/x-python",
   "name": "python",
   "nbconvert_exporter": "python",
   "pygments_lexer": "ipython3",
   "version": "3.11.8"
  }
 },
 "nbformat": 4,
 "nbformat_minor": 2
}
